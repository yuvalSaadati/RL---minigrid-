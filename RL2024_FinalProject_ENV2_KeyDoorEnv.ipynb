{
  "nbformat": 4,
  "nbformat_minor": 0,
  "metadata": {
    "colab": {
      "provenance": [],
      "gpuType": "T4",
      "collapsed_sections": [
        "4-OzvtfyOYL8",
        "lCZavukkPVcs"
      ]
    },
    "kernelspec": {
      "name": "python3",
      "display_name": "Python 3"
    },
    "language_info": {
      "name": "python"
    },
    "accelerator": "GPU"
  },
  "cells": [
    {
      "cell_type": "markdown",
      "source": [
        "# Mid Semester Project - DEEP Reinforcements Learning\n",
        "# ENV2 - KEY DOOR ENVIRONMENT\n",
        "Dear students,<br> this is the template notebook. Please copy it by clicking on the \"File\" tab and then on \"Save a copy into drive\".\n",
        "\n",
        "---\n",
        "<br>\n",
        "\n",
        "### Name and ID:\n",
        "Student 1: Reut Dayan 206433245\n",
        "<br>\n",
        "Student 2: Yuval Saadaty 205956634\n",
        "<br><br>\n",
        "<img src=\"https://raw.githubusercontent.com/Farama-Foundation/Minigrid/master/minigrid-text.png\">\n",
        "\n",
        "### https://minigrid.farama.org/"
      ],
      "metadata": {
        "id": "SLapsBtwOO6m"
      }
    },
    {
      "cell_type": "markdown",
      "source": [
        "# Pre-Requisit"
      ],
      "metadata": {
        "id": "4-OzvtfyOYL8"
      }
    },
    {
      "cell_type": "markdown",
      "source": [
        "## Installs"
      ],
      "metadata": {
        "id": "fUNptoCrObZs"
      }
    },
    {
      "cell_type": "code",
      "execution_count": null,
      "metadata": {
        "id": "-YTEVlS-OAQ-",
        "colab": {
          "base_uri": "https://localhost:8080/"
        },
        "outputId": "fef7badb-51d7-4053-b1c5-4c47eed862bc"
      },
      "outputs": [
        {
          "output_type": "stream",
          "name": "stdout",
          "text": [
            "\r0% [Working]\r            \rHit:1 https://cloud.r-project.org/bin/linux/ubuntu jammy-cran40/ InRelease\n",
            "Hit:2 https://developer.download.nvidia.com/compute/cuda/repos/ubuntu2204/x86_64  InRelease\n",
            "Get:3 http://security.ubuntu.com/ubuntu jammy-security InRelease [110 kB]\n",
            "Hit:4 http://archive.ubuntu.com/ubuntu jammy InRelease\n",
            "Get:5 http://archive.ubuntu.com/ubuntu jammy-updates InRelease [119 kB]\n",
            "Hit:6 https://ppa.launchpadcontent.net/c2d4u.team/c2d4u4.0+/ubuntu jammy InRelease\n",
            "Hit:7 http://archive.ubuntu.com/ubuntu jammy-backports InRelease\n",
            "Get:8 https://ppa.launchpadcontent.net/deadsnakes/ppa/ubuntu jammy InRelease [18.1 kB]\n",
            "Hit:9 https://ppa.launchpadcontent.net/graphics-drivers/ppa/ubuntu jammy InRelease\n",
            "Hit:10 https://ppa.launchpadcontent.net/ubuntugis/ppa/ubuntu jammy InRelease\n",
            "Get:11 https://ppa.launchpadcontent.net/deadsnakes/ppa/ubuntu jammy/main amd64 Packages [27.8 kB]\n",
            "Fetched 275 kB in 1s (219 kB/s)\n",
            "Reading package lists... Done\n",
            "Reading package lists... Done\n",
            "Building dependency tree... Done\n",
            "Reading state information... Done\n",
            "freeglut3-dev is already the newest version (2.8.1-6).\n",
            "ffmpeg is already the newest version (7:4.4.2-0ubuntu0.22.04.1).\n",
            "xvfb is already the newest version (2:21.1.4-2ubuntu1.7~22.04.10).\n",
            "0 upgraded, 0 newly installed, 0 to remove and 50 not upgraded.\n",
            "Requirement already satisfied: imageio==2.4.0 in /usr/local/lib/python3.10/dist-packages (2.4.0)\n",
            "Requirement already satisfied: numpy in /usr/local/lib/python3.10/dist-packages (from imageio==2.4.0) (1.25.2)\n",
            "Requirement already satisfied: pillow in /usr/local/lib/python3.10/dist-packages (from imageio==2.4.0) (9.4.0)\n",
            "Requirement already satisfied: gym in /usr/local/lib/python3.10/dist-packages (0.26.2)\n",
            "Requirement already satisfied: numpy>=1.18.0 in /usr/local/lib/python3.10/dist-packages (from gym) (1.25.2)\n",
            "Requirement already satisfied: cloudpickle>=1.2.0 in /usr/local/lib/python3.10/dist-packages (from gym) (2.2.1)\n",
            "Requirement already satisfied: gym-notices>=0.0.4 in /usr/local/lib/python3.10/dist-packages (from gym) (0.0.8)\n",
            "Requirement already satisfied: gym-minigrid in /usr/local/lib/python3.10/dist-packages (1.2.2)\n",
            "Requirement already satisfied: gym>=0.26 in /usr/local/lib/python3.10/dist-packages (from gym-minigrid) (0.26.2)\n",
            "Requirement already satisfied: numpy>=1.18.0 in /usr/local/lib/python3.10/dist-packages (from gym-minigrid) (1.25.2)\n",
            "Requirement already satisfied: matplotlib>=3.0 in /usr/local/lib/python3.10/dist-packages (from gym-minigrid) (3.7.1)\n",
            "Requirement already satisfied: cloudpickle>=1.2.0 in /usr/local/lib/python3.10/dist-packages (from gym>=0.26->gym-minigrid) (2.2.1)\n",
            "Requirement already satisfied: gym-notices>=0.0.4 in /usr/local/lib/python3.10/dist-packages (from gym>=0.26->gym-minigrid) (0.0.8)\n",
            "Requirement already satisfied: contourpy>=1.0.1 in /usr/local/lib/python3.10/dist-packages (from matplotlib>=3.0->gym-minigrid) (1.2.1)\n",
            "Requirement already satisfied: cycler>=0.10 in /usr/local/lib/python3.10/dist-packages (from matplotlib>=3.0->gym-minigrid) (0.12.1)\n",
            "Requirement already satisfied: fonttools>=4.22.0 in /usr/local/lib/python3.10/dist-packages (from matplotlib>=3.0->gym-minigrid) (4.51.0)\n",
            "Requirement already satisfied: kiwisolver>=1.0.1 in /usr/local/lib/python3.10/dist-packages (from matplotlib>=3.0->gym-minigrid) (1.4.5)\n",
            "Requirement already satisfied: packaging>=20.0 in /usr/local/lib/python3.10/dist-packages (from matplotlib>=3.0->gym-minigrid) (24.0)\n",
            "Requirement already satisfied: pillow>=6.2.0 in /usr/local/lib/python3.10/dist-packages (from matplotlib>=3.0->gym-minigrid) (9.4.0)\n",
            "Requirement already satisfied: pyparsing>=2.3.1 in /usr/local/lib/python3.10/dist-packages (from matplotlib>=3.0->gym-minigrid) (3.1.2)\n",
            "Requirement already satisfied: python-dateutil>=2.7 in /usr/local/lib/python3.10/dist-packages (from matplotlib>=3.0->gym-minigrid) (2.8.2)\n",
            "Requirement already satisfied: six>=1.5 in /usr/local/lib/python3.10/dist-packages (from python-dateutil>=2.7->matplotlib>=3.0->gym-minigrid) (1.16.0)\n",
            "Requirement already satisfied: pygame in /usr/local/lib/python3.10/dist-packages (2.5.2)\n",
            "Reading package lists... Done\n",
            "Building dependency tree... Done\n",
            "Reading state information... Done\n",
            "E: Unable to locate package python-opengl\n",
            "Reading package lists... Done\n",
            "Building dependency tree... Done\n",
            "Reading state information... Done\n",
            "xvfb is already the newest version (2:21.1.4-2ubuntu1.7~22.04.10).\n",
            "0 upgraded, 0 newly installed, 0 to remove and 50 not upgraded.\n",
            "Requirement already satisfied: pyvirtualdisplay in /usr/local/lib/python3.10/dist-packages (3.0)\n",
            "Requirement already satisfied: piglet in /usr/local/lib/python3.10/dist-packages (1.0.0)\n",
            "Requirement already satisfied: piglet-templates in /usr/local/lib/python3.10/dist-packages (from piglet) (1.3.1)\n",
            "Requirement already satisfied: pyparsing in /usr/local/lib/python3.10/dist-packages (from piglet-templates->piglet) (3.1.2)\n",
            "Requirement already satisfied: attrs in /usr/local/lib/python3.10/dist-packages (from piglet-templates->piglet) (23.2.0)\n",
            "Requirement already satisfied: astunparse in /usr/local/lib/python3.10/dist-packages (from piglet-templates->piglet) (1.6.3)\n",
            "Requirement already satisfied: markupsafe in /usr/local/lib/python3.10/dist-packages (from piglet-templates->piglet) (2.1.5)\n",
            "Requirement already satisfied: wheel<1.0,>=0.23.0 in /usr/local/lib/python3.10/dist-packages (from astunparse->piglet-templates->piglet) (0.43.0)\n",
            "Requirement already satisfied: six<2.0,>=1.6.1 in /usr/local/lib/python3.10/dist-packages (from astunparse->piglet-templates->piglet) (1.16.0)\n",
            "Requirement already satisfied: gym in /usr/local/lib/python3.10/dist-packages (0.26.2)\n",
            "Requirement already satisfied: numpy>=1.18.0 in /usr/local/lib/python3.10/dist-packages (from gym) (1.25.2)\n",
            "Requirement already satisfied: cloudpickle>=1.2.0 in /usr/local/lib/python3.10/dist-packages (from gym) (2.2.1)\n",
            "Requirement already satisfied: gym-notices>=0.0.4 in /usr/local/lib/python3.10/dist-packages (from gym) (0.0.8)\n",
            "Reading package lists... Done\n",
            "Building dependency tree... Done\n",
            "Reading state information... Done\n",
            "E: Unable to locate package python-opengl\n",
            "Reading package lists... Done\n",
            "Building dependency tree... Done\n",
            "Reading state information... Done\n",
            "xvfb is already the newest version (2:21.1.4-2ubuntu1.7~22.04.10).\n",
            "0 upgraded, 0 newly installed, 0 to remove and 50 not upgraded.\n",
            "Requirement already satisfied: gdown in /usr/local/lib/python3.10/dist-packages (5.1.0)\n",
            "Requirement already satisfied: beautifulsoup4 in /usr/local/lib/python3.10/dist-packages (from gdown) (4.12.3)\n",
            "Requirement already satisfied: filelock in /usr/local/lib/python3.10/dist-packages (from gdown) (3.13.4)\n",
            "Requirement already satisfied: requests[socks] in /usr/local/lib/python3.10/dist-packages (from gdown) (2.31.0)\n",
            "Requirement already satisfied: tqdm in /usr/local/lib/python3.10/dist-packages (from gdown) (4.66.2)\n",
            "Requirement already satisfied: soupsieve>1.2 in /usr/local/lib/python3.10/dist-packages (from beautifulsoup4->gdown) (2.5)\n",
            "Requirement already satisfied: charset-normalizer<4,>=2 in /usr/local/lib/python3.10/dist-packages (from requests[socks]->gdown) (3.3.2)\n",
            "Requirement already satisfied: idna<4,>=2.5 in /usr/local/lib/python3.10/dist-packages (from requests[socks]->gdown) (3.7)\n",
            "Requirement already satisfied: urllib3<3,>=1.21.1 in /usr/local/lib/python3.10/dist-packages (from requests[socks]->gdown) (2.0.7)\n",
            "Requirement already satisfied: certifi>=2017.4.17 in /usr/local/lib/python3.10/dist-packages (from requests[socks]->gdown) (2024.2.2)\n",
            "Requirement already satisfied: PySocks!=1.5.7,>=1.5.6 in /usr/local/lib/python3.10/dist-packages (from requests[socks]->gdown) (1.7.1)\n"
          ]
        }
      ],
      "source": [
        "!sudo apt-get update\n",
        "!sudo apt-get install -y xvfb ffmpeg freeglut3-dev\n",
        "!pip install 'imageio==2.4.0'\n",
        "!pip install gym\n",
        "!pip install gym-minigrid\n",
        "!pip install pygame\n",
        "!apt-get install python-opengl -y\n",
        "!apt install xvfb -y\n",
        "!pip install pyvirtualdisplay\n",
        "!pip install piglet\n",
        "!pip install gym\n",
        "!apt-get install python-opengl -y\n",
        "!apt install xvfb -y\n",
        "!pip install -U --no-cache-dir gdown --pre"
      ]
    },
    {
      "cell_type": "markdown",
      "source": [
        "## Imports"
      ],
      "metadata": {
        "id": "SEFhAxcrOhB1"
      }
    },
    {
      "cell_type": "code",
      "source": [
        "import numpy as np\n",
        "import gym\n",
        "from gym import logger as gymlogger\n",
        "from gym.utils import seeding\n",
        "from gym import error, spaces, utils\n",
        "gymlogger.set_level(40) # error only\n",
        "import glob\n",
        "import io\n",
        "import base64\n",
        "import os\n",
        "import random\n",
        "import matplotlib.pyplot as plt\n",
        "%matplotlib inline\n",
        "plt.rcParams['figure.figsize'] = (10.0, 8.0) # set default size of plots\n",
        "plt.rcParams['image.interpolation'] = 'nearest'\n",
        "plt.rcParams['image.cmap'] = 'gray'\n",
        "%load_ext autoreload\n",
        "%autoreload 2\n",
        "import math\n",
        "import glob\n",
        "from pyvirtualdisplay import Display\n",
        "from IPython.display import HTML\n",
        "from IPython import display as ipythondisplay\n",
        "import pygame\n",
        "import pyvirtualdisplay\n",
        "import imageio\n",
        "import IPython\n",
        "import time\n",
        "import cv2\n",
        "import numpy as np\n",
        "import matplotlib.pyplot as plt\n",
        "from collections import deque"
      ],
      "metadata": {
        "colab": {
          "base_uri": "https://localhost:8080/"
        },
        "id": "RM8i62VoOnA-",
        "outputId": "74ba9f34-27b4-4289-fd25-f4aa5dc74eba"
      },
      "execution_count": null,
      "outputs": [
        {
          "output_type": "stream",
          "name": "stdout",
          "text": [
            "The autoreload extension is already loaded. To reload it, use:\n",
            "  %reload_ext autoreload\n"
          ]
        }
      ]
    },
    {
      "cell_type": "markdown",
      "source": [
        "## Display utils\n",
        "The cell below contains the video display configuration. No need to make changes here."
      ],
      "metadata": {
        "id": "LnksgjjqOq02"
      }
    },
    {
      "cell_type": "code",
      "source": [
        "\n",
        "def embed_mp4(filename):\n",
        "  \"\"\"Embeds an mp4 file in the notebook.\"\"\"\n",
        "  video = open(filename,'rb').read()\n",
        "  b64 = base64.b64encode(video)\n",
        "  tag = '''\n",
        "  <video width=\"640\" height=\"480\" controls>\n",
        "    <source src=\"data:video/mp4;base64,{0}\" type=\"video/mp4\">\n",
        "  Your browser does not support the video tag.\n",
        "  </video>'''.format(b64.decode())\n",
        "\n",
        "  return IPython.display.HTML(tag)\n",
        "display = pyvirtualdisplay.Display(visible=0, size=(1400, 900)).start()"
      ],
      "metadata": {
        "id": "ceUl4Q9JOzpO"
      },
      "execution_count": null,
      "outputs": []
    },
    {
      "cell_type": "markdown",
      "source": [
        "#Env2 - Key Door Env"
      ],
      "metadata": {
        "id": "bvDlMYrxO4-7"
      }
    },
    {
      "cell_type": "markdown",
      "source": [
        "## Class Env"
      ],
      "metadata": {
        "id": "P34xWJJpOmQn"
      }
    },
    {
      "cell_type": "code",
      "source": [
        "# copy minigrid_x.py file from drive to colab\n",
        "#import shutil\n",
        "\n",
        "#from google.colab import drive\n",
        "#drive.mount('/content/drive')\n",
        "\n",
        "# Path to the file in Google Drive\n",
        "#source_file_path = '/content/drive/MyDrive/minigrid_x.py'\n",
        "\n",
        "# Destination path in the content directory of Colab\n",
        "#destination_path = '/content/minigrid_x.py'\n",
        "\n",
        "# Copy the file\n",
        "#shutil.copyfile(source_file_path, destination_path)"
      ],
      "metadata": {
        "colab": {
          "base_uri": "https://localhost:8080/",
          "height": 53
        },
        "id": "bVhY6LtvvDsn",
        "outputId": "2985a7e3-dcc9-4bf3-9628-7f28239cba4e"
      },
      "execution_count": null,
      "outputs": [
        {
          "output_type": "stream",
          "name": "stdout",
          "text": [
            "Drive already mounted at /content/drive; to attempt to forcibly remount, call drive.mount(\"/content/drive\", force_remount=True).\n"
          ]
        },
        {
          "output_type": "execute_result",
          "data": {
            "text/plain": [
              "'/content/minigrid_x.py'"
            ],
            "application/vnd.google.colaboratory.intrinsic+json": {
              "type": "string"
            }
          },
          "metadata": {},
          "execution_count": 42
        }
      ]
    },
    {
      "cell_type": "code",
      "source": [
        "from __future__ import annotations\n",
        "from gym_minigrid.minigrid import COLOR_NAMES\n",
        "from gym_minigrid.minigrid import Grid\n",
        "from gym_minigrid.minigrid import MissionSpace\n",
        "from gym_minigrid.minigrid import Door, Goal, Key, Wall, Lava, Floor\n",
        "from minigrid_x import MiniGridEnv\n",
        "from gym import spaces\n",
        "import random\n",
        "\n",
        "class RandomKeyMEnv_10(MiniGridEnv):\n",
        "    def __init__(\n",
        "        self,\n",
        "        size=10,\n",
        "        agent_start_pos=(1, 1), # aget allways starts at pos (1,1)\n",
        "        agent_start_dir=0, # 0: right, 1: down, 2: left, 3: up\n",
        "        max_steps: int | None = None,\n",
        "        **kwargs,\n",
        "    ):\n",
        "        self.agent_start_pos = agent_start_pos\n",
        "        self.agent_start_dir = agent_start_dir\n",
        "\n",
        "        mission_space = MissionSpace(mission_func=self._gen_mission)\n",
        "\n",
        "        if max_steps is None:\n",
        "            max_steps = 4 * size**2\n",
        "\n",
        "        super().__init__(\n",
        "            mission_space=mission_space,\n",
        "            grid_size=size,\n",
        "            # Set this to True for maximum speed\n",
        "            see_through_walls=True,\n",
        "            max_steps=max_steps,\n",
        "            **kwargs,\n",
        "        )\n",
        "        self.partition_col = 3\n",
        "        self.walls_init = [(self.partition_col, i) for i in range(0, self.grid.height)]\n",
        "        self.goal_pos = (self.grid.width - 2, self.grid.height - 2) # goal is always right buttom corner (8,8)\n",
        "        self.open_door_once = False\n",
        "        self.fixed_door_pos=None\n",
        "        self.fixed_key_pos=None\n",
        "\n",
        "\n",
        "    def get_pass_location(self):\n",
        "      return (self.partition_col, self.pass_loc)\n",
        "\n",
        "    def get_partition_column(self):\n",
        "      return self.partition_col\n",
        "\n",
        "    @staticmethod\n",
        "    def _gen_mission():\n",
        "        return \"grand mission\"\n",
        "\n",
        "    def get_k_pos(self):\n",
        "      return self.key_pos\n",
        "\n",
        "    def get_d_pos(self):\n",
        "      return self.door_pos\n",
        "\n",
        "    def _gen_grid(self, width, height):\n",
        "        # Place Dor in random location within all column the partition\n",
        "        self.pass_loc = random.choice([op_row for op_row in range(1, self.unwrapped.width-1)])\n",
        "\n",
        "        # Create an empty grid\n",
        "        self.grid = Grid(width, height)\n",
        "\n",
        "        # Generate the surrounding walls\n",
        "        self.grid.wall_rect(0, 0, width, height)\n",
        "\n",
        "        # Generate verical separation wall\n",
        "        # for i in range(0, height):\n",
        "        #     self.grid.set(5, i, Wall())\n",
        "\n",
        "\n",
        "        for column, row in self.walls_init:\n",
        "          self.grid.set(column, row, Wall())\n",
        "\n",
        "        # Place Key in random location within all the free spaces left to the partition\n",
        "        if self.fixed_key_pos is not None:\n",
        "            self.key_pos = self.fixed_key_pos\n",
        "        else:\n",
        "            self.key_pos = (random.choice([k_col for k_col in range(1,self.partition_col)]), random.choice([k_row for k_row in range(2,self.unwrapped.height-1)]))\n",
        "\n",
        "        if self.fixed_door_pos is not None:\n",
        "            self.door_pos = self.fixed_door_pos\n",
        "        else:\n",
        "          self.door_pos = (self.partition_col, self.pass_loc)\n",
        "\n",
        "        self.env_door = Door(COLOR_NAMES[0], is_locked=True)\n",
        "\n",
        "        # Place the Lava\n",
        "        # self.grid.set(4, 6, Lava())\n",
        "\n",
        "        # Place the door and key\n",
        "        self.grid.set(self.door_pos[0], self.door_pos[1], self.env_door)\n",
        "        self.grid.set(self.key_pos[0], self.key_pos[1], Key(COLOR_NAMES[0]))\n",
        "        self.goal_pos = (width - 2, height - 2)\n",
        "        # Place a goal square in the bottom-right corner\n",
        "        self.put_obj(Goal(), self.goal_pos[0], self.goal_pos[1])\n",
        "\n",
        "        # Place the agent\n",
        "        if self.agent_start_pos is not None:\n",
        "            self.agent_pos = self.agent_start_pos\n",
        "            self.agent_dir = self.agent_start_dir\n",
        "        else:\n",
        "            self.place_agent()\n",
        "\n",
        "        self.mission = \"grand mission\"\n",
        "\n",
        "    def is_carrying_key(self):\n",
        "        if 'Key' in str(self.unwrapped.carrying):\n",
        "            return True\n",
        "        return False\n",
        "\n",
        "    def is_door_open(self):\n",
        "        return self.unwrapped.env_door.is_open\n",
        "\n",
        "    def is_open_door_once(self):\n",
        "        return self.unwrapped.open_door_once\n",
        "\n",
        "    def is_wall_front_pos(self):\n",
        "      if 0 in self.unwrapped.front_pos or (self.unwrapped.height-1) in self.unwrapped.front_pos:\n",
        "        return True\n",
        "      return (tuple(self.unwrapped.front_pos) in self.unwrapped.walls_init)\n",
        "\n",
        "    def is_door_front_pos(self):\n",
        "      return (tuple(self.unwrapped.front_pos) == self.unwrapped.get_d_pos())\n",
        "\n",
        "    def is_key_front_pos(self):\n",
        "      return (tuple(self.unwrapped.front_pos) == self.unwrapped.get_k_pos())\n",
        "\n"
      ],
      "metadata": {
        "id": "uhkmk0Y5PCVZ"
      },
      "execution_count": null,
      "outputs": []
    },
    {
      "cell_type": "markdown",
      "source": [
        "## WRAPPER"
      ],
      "metadata": {
        "id": "UpLk4aRJPGFT"
      }
    },
    {
      "cell_type": "code",
      "source": [
        "from PIL import Image\n",
        "import torchvision.transforms as transforms\n",
        "\n",
        "ACTION_MAP = {0:0, #trurn left\n",
        "              1:1, #turn right\n",
        "              2:2, #srep forward\n",
        "              3:3, #take key\n",
        "              4:5} #open door\n",
        "\n",
        "\n",
        "class KEYRGBImgObsWrapper(gym.core.ObservationWrapper):\n",
        "    \"\"\"\n",
        "    Wrapper to use fully observable RGB image as the only observation output,\n",
        "    no language/mission. This can be used to have the agent to solve the\n",
        "    gridworld in pixel space.\n",
        "    \"\"\"\n",
        "\n",
        "    def __init__(self, env, tile_size=32, plot=False, preprocess= lambda x: x):\n",
        "        super().__init__(env)\n",
        "\n",
        "        self.tile_size = tile_size\n",
        "        self.plot = plot\n",
        "        self.observation_space = spaces.Box(\n",
        "            low=0,\n",
        "            high=255,\n",
        "            # #the default is (320,320,3). Tile size  = 32 X 10 (grid size)\n",
        "            # TODO: BE CAREFULL TO CHANGE the shape size to be according your preprocess size/channels\n",
        "            # The env information i staken from here\n",
        "            shape=(320, 320, 3),\n",
        "            dtype='uint8'\n",
        "        )\n",
        "        self.prev_door = False\n",
        "        self.prev_key = False\n",
        "        self.action_space = spaces.Discrete(self.action_space.n - 2)\n",
        "\n",
        "        self._preprocess = self.preprocess_image\n",
        "\n",
        "\n",
        "    def preprocess_image(self, image):\n",
        "      image = image.transpose(2,0,1)\n",
        "      # Convert ndarray to PIL Image\n",
        "      image_pil = Image.fromarray(image.transpose((1, 2, 0)))  # Assuming 'image' is a ndarray with shape (3, 320, 320)\n",
        "\n",
        "      # Define transformations to be applied to the images - dataset preprocess\n",
        "      transform = transforms.Compose([\n",
        "          transforms.Resize((200, 200)),       # Resize the image to 110*110\n",
        "          transforms.Grayscale(num_output_channels=1),  # Convert to grayscale\n",
        "          transforms.CenterCrop((160, 160)),  # Crop the center 84*84 portion of the image\n",
        "          transforms.ToTensor(),              # Convert the image to a PyTorch tensor and maps [0,255] to [0,1]\n",
        "          ])\n",
        "\n",
        "      # Apply the transformation\n",
        "      transformed_image = transform(image_pil)\n",
        "\n",
        "      return transformed_image\n",
        "\n",
        "    def observation(self, obs):\n",
        "      env = self.unwrapped\n",
        "\n",
        "      # Call render without any unsupported keyword arguments\n",
        "      rgb_img = env.render()  # Use the default rendering behavior\n",
        "      return rgb_img\n",
        "\n",
        "    def reset(self, seed = 0, options = None):\n",
        "        self.prev_door = False\n",
        "        self.prev_key = False\n",
        "        obs, info = super().reset()\n",
        "        if self.plot:\n",
        "            plt.show()\n",
        "        return self._preprocess(obs), info\n",
        "\n",
        "    def step(self, action):\n",
        "\n",
        "        env = self.unwrapped\n",
        "        # Get the position in front of the agent\n",
        "        fwd_pos = env.front_pos\n",
        "        # Get the contents of the cell in front of the agent\n",
        "        fwd_cell = env.grid.get(*fwd_pos)\n",
        "\n",
        "        # Rotate left\n",
        "        if action == 0:\n",
        "            if self.is_door_open():\n",
        "                reward = -20\n",
        "            else:\n",
        "              reward =-7\n",
        "\n",
        "        # Rotate right\n",
        "        elif action == 1:\n",
        "            if self.is_door_front_pos():\n",
        "              reward = -20\n",
        "            elif self.agent_pos[1] == self.door_pos[1]  and (self.door_pos[0]-self.agent_pos[0] ==1) and env.agent_dir !=0 and not self.is_door_open():\n",
        "              reward = 2\n",
        "            else:\n",
        "               reward =-1\n",
        "\n",
        "        # Move forward\n",
        "        elif action == 2:\n",
        "            if self.is_wall_front_pos() and not self.is_door_front_pos() :\n",
        "              reward = -100\n",
        "            elif self.door_pos == self.agent_pos and self.is_door_open() or (self.is_door_front_pos() and self.is_door_open()):\n",
        "              reward = 20\n",
        "            elif fwd_cell and fwd_cell.can_pickup() and not self.is_carrying_key(): # the door is close and agent is in front of the door\n",
        "              reward = -20\n",
        "            elif self.is_door_front_pos() and not self.is_door_open():\n",
        "               reward = -20\n",
        "            elif self.is_door_open():\n",
        "               reward = 7\n",
        "            else :\n",
        "               reward = 5\n",
        "\n",
        "\n",
        "        # Pick up an object\n",
        "        elif action == 3:\n",
        "          if fwd_cell and fwd_cell.can_pickup():\n",
        "            if not self.is_carrying_key():\n",
        "              reward = 100\n",
        "            else:\n",
        "              reward = -20\n",
        "          else:\n",
        "            reward = -50\n",
        "\n",
        "\n",
        "        # Toggle/activate an object\n",
        "        elif action == 4:\n",
        "            if fwd_cell:\n",
        "              if self.is_carrying_key() and not self.is_door_open() and  self.is_door_front_pos():\n",
        "                  reward = 100\n",
        "              else:\n",
        "                  reward =-200\n",
        "            else:\n",
        "              reward = -20\n",
        "\n",
        "        else:\n",
        "            reward = -1\n",
        "            raise ValueError(f\"Unknown action: {action}\")\n",
        "\n",
        "        action = ACTION_MAP[action]\n",
        "        obs, r, d, info, x = super().step(action)\n",
        "        obs = self._preprocess(obs)\n",
        "        if d:\n",
        "          r = 10000 # 200 for done\n",
        "        else:\n",
        "          r= reward\n",
        "\n",
        "        return obs, r, d, info, x\n"
      ],
      "metadata": {
        "id": "ZZ3ISGmToqw8"
      },
      "execution_count": null,
      "outputs": []
    },
    {
      "cell_type": "markdown",
      "source": [
        "## Env Info"
      ],
      "metadata": {
        "id": "TPwDWTIIPNXB"
      }
    },
    {
      "cell_type": "code",
      "source": [
        "env = KEYRGBImgObsWrapper(RandomKeyMEnv_10 (render_mode='rgb_array'))\n",
        "obs = env.reset()[0]\n",
        "print(obs.shape)\n",
        "screen = env.render()\n",
        "plt.imshow(screen)"
      ],
      "metadata": {
        "colab": {
          "base_uri": "https://localhost:8080/",
          "height": 716
        },
        "id": "tI8qzBErPQRl",
        "outputId": "ebf360ed-5bce-4874-a0ea-77a7f94d1088"
      },
      "execution_count": null,
      "outputs": [
        {
          "output_type": "stream",
          "name": "stdout",
          "text": [
            "torch.Size([1, 160, 160])\n"
          ]
        },
        {
          "output_type": "execute_result",
          "data": {
            "text/plain": [
              "<matplotlib.image.AxesImage at 0x7beafeee95d0>"
            ]
          },
          "metadata": {},
          "execution_count": 45
        },
        {
          "output_type": "display_data",
          "data": {
            "text/plain": [
              "<Figure size 1000x800 with 1 Axes>"
            ],
            "image/png": "[encoded data removed]"
          },
          "metadata": {}
        }
      ]
    },
    {
      "cell_type": "code",
      "source": [
        "obs, r, d, info, x = env.step(2\n",
        ")\n",
        "print(env.is_door_open())\n",
        "print(r)\n",
        "screen = env.render()\n",
        "plt.imshow(screen)"
      ],
      "metadata": {
        "colab": {
          "base_uri": "https://localhost:8080/",
          "height": 733
        },
        "id": "g4b91F9u9lJx",
        "outputId": "0b9ef1cb-34c5-40fd-ab06-109eb75047b8"
      },
      "execution_count": null,
      "outputs": [
        {
          "output_type": "stream",
          "name": "stdout",
          "text": [
            "False\n",
            "5\n"
          ]
        },
        {
          "output_type": "execute_result",
          "data": {
            "text/plain": [
              "<matplotlib.image.AxesImage at 0x7beafeef1ed0>"
            ]
          },
          "metadata": {},
          "execution_count": 46
        },
        {
          "output_type": "display_data",
          "data": {
            "text/plain": [
              "<Figure size 1000x800 with 1 Axes>"
            ],
            "image/png": "[encoded data removed]"
          },
          "metadata": {}
        }
      ]
    },
    {
      "cell_type": "markdown",
      "source": [
        "## Random action"
      ],
      "metadata": {
        "id": "lCZavukkPVcs"
      }
    },
    {
      "cell_type": "code",
      "source": [
        "env = KEYRGBImgObsWrapper(RandomKeyMEnv_10 (render_mode='rgb_array'))\n",
        "obs = env.reset()\n",
        "video_filename = '/content/vid.mp4'\n",
        "max_steps = 100\n",
        "# Evaluation\n",
        "with imageio.get_writer(video_filename, fps=10) as video:\n",
        "  obs = env.reset()\n",
        "  done = False\n",
        "  total_reward = 0\n",
        "  for step in range(max_steps):\n",
        "      action = env.action_space.sample()\n",
        "      obs, reward, done, _, _ = env.step(action)\n",
        "      next_obs = obs  # Get agent's position directly from the environment\n",
        "      video.append_data(env.render())\n",
        "      if done:\n",
        "        print(\"done\",\"reward=\", total_reward,\"num_of_steps=\",step)\n",
        "        break\n",
        "embed_mp4(video_filename)"
      ],
      "metadata": {
        "colab": {
          "base_uri": "https://localhost:8080/",
          "height": 502
        },
        "id": "al8T5jyyPZhf",
        "outputId": "3da8dd37-809a-4ca4-a620-db1668059eea"
      },
      "execution_count": null,
      "outputs": [
        {
          "output_type": "execute_result",
          "data": {
            "text/plain": [
              "<IPython.core.display.HTML object>"
            ],
            "text/html": [
              "\n",
              "  <video width=\"640\" height=\"480\" controls>\n",
              "    <source src=\"data:video/mp4;base64,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\" type=\"video/mp4\">\n",
              "  Your browser does not support the video tag.\n",
              "  </video>"
            ]
          },
          "metadata": {},
          "execution_count": 311
        }
      ]
    },
    {
      "cell_type": "markdown",
      "source": [
        "## DQN\n",
        "\n"
      ],
      "metadata": {
        "id": "x63wHDzatlpf"
      }
    },
    {
      "cell_type": "code",
      "source": [
        "import torch\n",
        "import torch.nn as nn\n",
        "import torch.optim as optim\n",
        "import torch.nn.functional as F\n",
        "\n",
        "class DQN(nn.Module):\n",
        "    def __init__(self, input_shape, num_actions):\n",
        "        super(DQN, self).__init__()\n",
        "        self.conv = nn.Sequential(\n",
        "            nn.Conv2d(1, 16, kernel_size=3, stride=2),   # (84-3+1)/2 = 41, 1*84*84-> 16*41*41\n",
        "            nn.ReLU(),\n",
        "            nn.Conv2d(16, 32, kernel_size=4, stride=2), # (41-4+1)/2 = 19 16*41*41->32*19*19\n",
        "            nn.ReLU(),\n",
        "            nn.Conv2d(32, 64, kernel_size=4, stride=2), # (19-4+1)/2 = 8 32*18*19 -> 64*8*8\n",
        "            nn.ReLU(),\n",
        "            nn.Conv2d(64, 128, kernel_size=3, stride=2), # (8-3+1)/2 = 3 64*8*8 -> 128*3*3\n",
        "            nn.ReLU()\n",
        "        )\n",
        "        conv_out_size = self._get_conv_out(input_shape)\n",
        "        self.fc = nn.Sequential(\n",
        "            nn.Linear(conv_out_size, 512),\n",
        "            nn.ReLU(),\n",
        "            nn.Linear(512, num_actions)\n",
        "        )\n",
        "\n",
        "    def _get_conv_out(self, shape):\n",
        "        o = self.conv(torch.zeros(1, *shape))\n",
        "        return int(torch.prod(torch.tensor(o.size())))\n",
        "\n",
        "    def forward(self, x):\n",
        "        x = self.conv(x)\n",
        "        x = x.view(x.size(0), -1)\n",
        "        x = self.fc(x)\n",
        "        return x\n"
      ],
      "metadata": {
        "id": "mcAgLjmG5MVi"
      },
      "execution_count": null,
      "outputs": []
    },
    {
      "cell_type": "code",
      "source": [
        "from collections import deque, namedtuple\n",
        "\n",
        "class ReplayBuffer:\n",
        "    def __init__(self, buffer_size):\n",
        "      self.memory = deque(maxlen=buffer_size)\n",
        "      self.experience = namedtuple(\"Experience\", field_names=[\"state\", \"action\", \"reward\", \"next_state\", \"done\"])\n",
        "\n",
        "\n",
        "    def add(self, state, action, reward, next_state, done):\n",
        "      # add experience to replay memory\n",
        "      e = self.experience(state, action, reward, next_state, done)\n",
        "      self.memory.append(e)\n",
        "\n",
        "    def sample(self, batch_size):\n",
        "      # get random minibatch from memory\n",
        "      experiences = random.sample(self.memory, k=batch_size)\n",
        "\n",
        "      # stack all non none states\n",
        "      states = torch.stack([e.state for e in experiences])\n",
        "      actions = torch.from_numpy(np.vstack([e.action for e in experiences if e is not None])).long().to(device)\n",
        "      rewards = torch.from_numpy(np.vstack([e.reward for e in experiences if e is not None])).float().to(device)\n",
        "      next_states = torch.from_numpy(np.stack([e.next_state for e in experiences if e is not None])).to(device)\n",
        "      dones = torch.from_numpy(np.vstack([e.done for e in experiences if e is not None]).astype(np.uint8)).float().to(device)\n",
        "\n",
        "      return (states, actions, rewards, next_states, dones)\n",
        "\n",
        "    def __len__(self):\n",
        "      # Return the current size of the replay memory\n",
        "      return len(self.memory)"
      ],
      "metadata": {
        "id": "gkoBhXw65MQH"
      },
      "execution_count": null,
      "outputs": []
    },
    {
      "cell_type": "code",
      "source": [
        "obs = env.reset()[0]\n",
        "state_size = obs.shape\n",
        "action_space = env.action_space\n",
        "num_actions = action_space.n\n",
        "print(f\"Number of actions: {num_actions}\")\n",
        "print(f\"State size is: {state_size}\")"
      ],
      "metadata": {
        "colab": {
          "base_uri": "https://localhost:8080/"
        },
        "id": "_U4s-vikjA7Y",
        "outputId": "bcee80b3-c94d-4e1d-9c09-bd0ee515a6f1"
      },
      "execution_count": null,
      "outputs": [
        {
          "output_type": "stream",
          "name": "stdout",
          "text": [
            "Number of actions: 5\n",
            "State size is: torch.Size([1, 160, 160])\n"
          ]
        }
      ]
    },
    {
      "cell_type": "code",
      "source": [
        "BUFFER_SIZE =    10000\n",
        "BATCH_SIZE         =    32       # minibatch size\n",
        "GAMMA              =    0.99     # discount factor\n",
        "SOFT_UPDATE_RATE   =    1e-3     # for soft update of target parameters\n",
        "LEARNING_RATE      =    1e-4     # learning rate\n",
        "UPDATE_EVERY       =    5       # how often to update the network\n",
        "n_episodes=10000                 #number of episodes - reset the game\n",
        "max_t=1000                        #maximum number of timesteps per episode\n",
        "eps_start=1.0\n",
        "eps_end=0.01\n",
        "eps_decay=0.995"
      ],
      "metadata": {
        "id": "u264abzV5MM4"
      },
      "execution_count": null,
      "outputs": []
    },
    {
      "cell_type": "code",
      "source": [
        "device = torch.device(\"cuda\" if torch.cuda.is_available() else \"cpu\")\n",
        "print(device)"
      ],
      "metadata": {
        "colab": {
          "base_uri": "https://localhost:8080/"
        },
        "id": "gkIj5pdq5MIq",
        "outputId": "75fd4a4d-5415-467a-ed48-cd4af37a6320"
      },
      "execution_count": null,
      "outputs": [
        {
          "output_type": "stream",
          "name": "stdout",
          "text": [
            "cuda\n"
          ]
        }
      ]
    },
    {
      "cell_type": "code",
      "source": [
        "# initialize networks\n",
        "policy_network = DQN(state_size, action_space.n).to(device)\n",
        "target_network = DQN(state_size, action_space.n).to(device)\n",
        "memory = ReplayBuffer(buffer_size=BUFFER_SIZE)\n",
        "optimizer = optim.Adam(policy_network.parameters(), lr = LEARNING_RATE)"
      ],
      "metadata": {
        "id": "cW3jAqZx5MGB"
      },
      "execution_count": null,
      "outputs": []
    },
    {
      "cell_type": "code",
      "source": [
        "def epsilon_gredy(state, eps, n_actions):\n",
        "  policy_network.eval()\n",
        "  with torch.no_grad():\n",
        "    # Epsilon-greedy action selection\n",
        "    if random.random() > eps:\n",
        "       #Forward step\n",
        "      action_values = policy_network(state.unsqueeze(0))     # calculate the policy network approximation to q vals\n",
        "      action =  np.argmax(action_values.cpu().data.numpy()) # action that maximaize the q value\n",
        "    else:\n",
        "      action = random.choice(np.arange(n_actions)) # random action\n",
        "\n",
        "    #training mode.\n",
        "    policy_network.train()\n",
        "    return action"
      ],
      "metadata": {
        "id": "LDAuzl655L-e"
      },
      "execution_count": null,
      "outputs": []
    },
    {
      "cell_type": "code",
      "source": [
        "def learn(batch_size):\n",
        "  # If enough samples are available in memory, get random subset and learn\n",
        "  if len(memory) >= batch_size:\n",
        "    # sample minibatch of experiences\n",
        "    states, actions, rewards, next_states, dones = memory.sample(batch_size)\n",
        "    # compute approximation on the target network\n",
        "    targets_next = target_network(next_states).detach().max(1)[0].unsqueeze(1) # (64,1)\n",
        "\n",
        "    # Calculate target value from bellman equation\n",
        "    q_targets = rewards + GAMMA * targets_next * (1 - dones)\n",
        "    q_expected = policy_network(states).gather(1, actions) # policy_network(state).shape = (B,3) - we gather (1, actions) to index the q-values of selected actions by policy\n",
        "\n",
        "    ### Loss calculation (we used Mean squared error)\n",
        "    loss = F.mse_loss(q_expected, q_targets)\n",
        "    optimizer.zero_grad()\n",
        "    loss.backward()\n",
        "    optimizer.step()"
      ],
      "metadata": {
        "id": "6yz6gg7H5L5v"
      },
      "execution_count": null,
      "outputs": []
    },
    {
      "cell_type": "code",
      "source": [
        "def copy_weights(t_step):\n",
        "  # Learn every UPDATE_EVERY time steps.\n",
        "  if t_step == 0:\n",
        "    if len(memory) > BATCH_SIZE:\n",
        "      for target_param, local_param in zip(target_network.parameters(), policy_network.parameters()):\n",
        "        target_param.data.copy_(SOFT_UPDATE_RATE*local_param.data + (1.0-SOFT_UPDATE_RATE)*target_param.data)"
      ],
      "metadata": {
        "id": "fbLZOBN65L2D"
      },
      "execution_count": null,
      "outputs": []
    },
    {
      "cell_type": "code",
      "source": [
        "env = KEYRGBImgObsWrapper(RandomKeyMEnv_10 (render_mode='rgb_array'))\n",
        "scores = []\n",
        "eps = eps_start                    # initialize epsilon\n",
        "t_step = 0\n",
        "l_step = 0\n",
        "n_episodes_for_val = 10\n",
        "LEARN_EVERY = 5\n",
        "n_dones = 0\n",
        "is_done = False\n",
        "for i_episode in range(1, n_episodes+1): # number of episodes\n",
        "  state, _ = env.reset()                 # reset new game\n",
        "  state = state.to(device)\n",
        "  score = 0\n",
        "  for t in range(max_t):\n",
        "    # Epsilon-greedy action selection\n",
        "    action = epsilon_gredy(state, eps, env.action_space.n)\n",
        "\n",
        "    # Step\n",
        "    next_state, reward, done, _, _ = env.step(action)\n",
        "\n",
        "    # Add experience to memory\n",
        "    memory.add(state.clone(), action, reward, next_state.clone(), done)\n",
        "\n",
        "    next_state = next_state.to(device)\n",
        "    state=next_state\n",
        "    l_step = (l_step+1) % LEARN_EVERY\n",
        "    if l_step == 0:\n",
        "      learn(batch_size=BATCH_SIZE)\n",
        "\n",
        "    # Learn every UPDATE_EVERY time steps.\n",
        "    t_step = (t_step+1) % UPDATE_EVERY\n",
        "    copy_weights(t_step)\n",
        "    score += reward\n",
        "    if done:\n",
        "      is_done = True\n",
        "      n_dones += 1\n",
        "      break\n",
        "  eps = max(eps_end, eps_decay*eps) # decrease epsilon\n",
        "\n",
        "  scores.append(score) # save most recent score\n",
        "\n",
        "  print('\\rEpisode {}\\t Score: {:.2f} \\t done={}'.format(i_episode, score, is_done), end=\"\")\n",
        "  is_done = False\n",
        "  if i_episode % 100 == 0:\n",
        "    print('\\rEpisode {}\\t Avarage Score: {:.2f}'.format(i_episode, np.mean(scores[-100:])))\n",
        "    n_dones =0"
      ],
      "metadata": {
        "colab": {
          "base_uri": "https://localhost:8080/"
        },
        "id": "hqp9fTZ85Lw6",
        "outputId": "b671687d-2246-474e-a1c6-5944f2f1465a"
      },
      "execution_count": null,
      "outputs": [
        {
          "output_type": "stream",
          "name": "stdout",
          "text": [
            "Episode 100\t Avarage Score: -21348.62\n",
            "Episode 200\t Avarage Score: -13141.60\n",
            "Episode 300\t Avarage Score: -3766.30\n",
            "Episode 400\t Avarage Score: -12106.80\n",
            "Episode 500\t Avarage Score: -29794.56\n",
            "Episode 600\t Avarage Score: -24650.36\n",
            "Episode 700\t Avarage Score: -24505.78\n",
            "Episode 800\t Avarage Score: -20702.99\n",
            "Episode 900\t Avarage Score: -19055.43\n",
            "Episode 1000\t Avarage Score: -11932.22\n",
            "Episode 1100\t Avarage Score: -11832.51\n",
            "Episode 1200\t Avarage Score: -6288.64\n",
            "Episode 1300\t Avarage Score: 932.56\n",
            "Episode 1400\t Avarage Score: 1621.04\n",
            "Episode 1500\t Avarage Score: 4505.81\n",
            "Episode 1600\t Avarage Score: 5356.82\n",
            "Episode 1700\t Avarage Score: 8110.94\n",
            "Episode 1800\t Avarage Score: 6884.66\n",
            "Episode 1900\t Avarage Score: 10034.26\n",
            "Episode 2000\t Avarage Score: 10198.51\n",
            "Episode 2100\t Avarage Score: 9769.63\n",
            "Episode 2200\t Avarage Score: 10120.62\n",
            "Episode 2300\t Avarage Score: 9360.56\n",
            "Episode 2400\t Avarage Score: 10085.22\n",
            "Episode 2500\t Avarage Score: 10237.28\n",
            "Episode 2600\t Avarage Score: 10215.75\n",
            "Episode 2700\t Avarage Score: 10192.92\n",
            "Episode 2800\t Avarage Score: 10264.47\n",
            "Episode 2900\t Avarage Score: 10147.52\n",
            "Episode 3000\t Avarage Score: 10082.28\n",
            "Episode 3100\t Avarage Score: 10069.21\n",
            "Episode 3200\t Avarage Score: 10113.94\n",
            "Episode 3300\t Avarage Score: 10247.29\n",
            "Episode 3400\t Avarage Score: 10056.42\n",
            "Episode 3500\t Avarage Score: 9922.03\n",
            "Episode 3600\t Avarage Score: 10234.53\n",
            "Episode 3700\t Avarage Score: 10240.71\n",
            "Episode 3800\t Avarage Score: 10199.81\n",
            "Episode 3900\t Avarage Score: 10070.30\n",
            "Episode 4000\t Avarage Score: 10263.21\n",
            "Episode 4100\t Avarage Score: 10259.25\n",
            "Episode 4200\t Avarage Score: 10203.87\n",
            "Episode 4300\t Avarage Score: 10262.59\n",
            "Episode 4400\t Avarage Score: 10188.98\n",
            "Episode 4500\t Avarage Score: 10105.40\n",
            "Episode 4600\t Avarage Score: 10257.02\n",
            "Episode 4700\t Avarage Score: 10276.41\n",
            "Episode 4800\t Avarage Score: 10200.09\n",
            "Episode 4900\t Avarage Score: 10221.71\n",
            "Episode 5000\t Avarage Score: 10083.06\n",
            "Episode 5100\t Avarage Score: 10223.72\n",
            "Episode 5200\t Avarage Score: 10280.65\n",
            "Episode 5300\t Avarage Score: 10195.65\n",
            "Episode 5400\t Avarage Score: 10211.69\n",
            "Episode 5500\t Avarage Score: 10205.66\n",
            "Episode 5600\t Avarage Score: 10183.45\n",
            "Episode 5700\t Avarage Score: 10239.77\n",
            "Episode 5800\t Avarage Score: 10006.55\n",
            "Episode 5900\t Avarage Score: 10232.61\n",
            "Episode 6000\t Avarage Score: 10276.58\n",
            "Episode 6100\t Avarage Score: 10112.01\n",
            "Episode 6200\t Avarage Score: 10232.77\n",
            "Episode 6300\t Avarage Score: 10172.37\n",
            "Episode 6400\t Avarage Score: 10049.12\n",
            "Episode 6500\t Avarage Score: 10269.98\n",
            "Episode 6600\t Avarage Score: 10278.75\n",
            "Episode 6700\t Avarage Score: 10246.24\n",
            "Episode 6800\t Avarage Score: 9887.50\n",
            "Episode 6900\t Avarage Score: 9958.04\n",
            "Episode 7000\t Avarage Score: 10219.30\n",
            "Episode 7100\t Avarage Score: 10239.83\n",
            "Episode 7200\t Avarage Score: 10254.00\n",
            "Episode 7300\t Avarage Score: 10215.04\n",
            "Episode 7400\t Avarage Score: 10178.31\n",
            "Episode 7500\t Avarage Score: 10245.78\n",
            "Episode 7600\t Avarage Score: 10278.73\n",
            "Episode 7700\t Avarage Score: 10276.91\n",
            "Episode 7800\t Avarage Score: 10259.28\n",
            "Episode 7900\t Avarage Score: 10265.56\n",
            "Episode 8000\t Avarage Score: 10236.78\n",
            "Episode 8100\t Avarage Score: 10286.16\n",
            "Episode 8200\t Avarage Score: 10195.55\n",
            "Episode 8300\t Avarage Score: 10202.83\n",
            "Episode 8400\t Avarage Score: 10262.83\n",
            "Episode 8500\t Avarage Score: 10274.94\n",
            "Episode 8600\t Avarage Score: 10089.93\n",
            "Episode 8700\t Avarage Score: 10246.48\n",
            "Episode 8800\t Avarage Score: 10264.18\n",
            "Episode 8900\t Avarage Score: 10281.47\n",
            "Episode 9000\t Avarage Score: 10253.68\n",
            "Episode 9100\t Avarage Score: 10150.87\n",
            "Episode 9200\t Avarage Score: 10270.02\n",
            "Episode 9300\t Avarage Score: 10269.10\n",
            "Episode 9400\t Avarage Score: 10275.78\n",
            "Episode 9500\t Avarage Score: 10246.27\n",
            "Episode 9600\t Avarage Score: 10278.95\n",
            "Episode 9700\t Avarage Score: 10208.43\n",
            "Episode 9800\t Avarage Score: 10177.91\n",
            "Episode 9900\t Avarage Score: 10134.26\n",
            "Episode 10000\t Avarage Score: 10280.80\n"
          ]
        }
      ]
    },
    {
      "cell_type": "code",
      "source": [
        "# plot the scores\n",
        "plt.plot(np.arange(1, len(scores)+1), scores, marker='o')\n",
        "plt.ylabel('Score')\n",
        "plt.xlabel('Episode #')\n",
        "plt.title('DQN: Score wheile training')\n",
        "plt.show()"
      ],
      "metadata": {
        "id": "gqarrDSfWKnZ",
        "colab": {
          "base_uri": "https://localhost:8080/",
          "height": 718
        },
        "outputId": "4ae23794-ede8-40d1-e632-53cf33255bf0"
      },
      "execution_count": null,
      "outputs": [
        {
          "output_type": "display_data",
          "data": {
            "text/plain": [
              "<Figure size 1000x800 with 1 Axes>"
            ],
            "image/png": "[encoded data removed]"
          },
          "metadata": {}
        }
      ]
    },
    {
      "cell_type": "code",
      "source": [
        "torch.save(policy_network.state_dict(), '/content/drive/My Drive/policy_key_door_dqn_model_weights.pth')\n",
        "torch.save(target_network.state_dict(), '/content/drive/My Drive/target_key_door_dqn_model_weights.pth')"
      ],
      "metadata": {
        "id": "XNWUo4OF5LsN"
      },
      "execution_count": null,
      "outputs": []
    },
    {
      "cell_type": "code",
      "source": [
        "from tqdm import tqdm\n",
        "\n",
        "env = KEYRGBImgObsWrapper(RandomKeyMEnv_10 (render_mode='rgb_array'))\n",
        "video_filename = '/content/vid.mp4'\n",
        "max_steps = 100\n",
        "# Evaluation\n",
        "with imageio.get_writer(video_filename, fps=10) as video:\n",
        "  obs = env.reset()[0]\n",
        "  done = False\n",
        "  total_reward = 0\n",
        "  obs = obs.to(device)\n",
        "  for step in tqdm(range(max_steps)):\n",
        "    action = policy_network(obs.unsqueeze(0)).max(1)[1].item()\n",
        "    new_obs, reward, done, _, _ = env.step(action)\n",
        "    new_obs = new_obs.to(device)\n",
        "    total_reward += reward\n",
        "    video.append_data(env.render())\n",
        "    obs = new_obs\n",
        "    if done:\n",
        "      print(\"done\",\"reward=\", total_reward,\"num_of_steps=\",step)\n",
        "      break\n",
        "embed_mp4(video_filename)"
      ],
      "metadata": {
        "id": "6vbVwWv-5Lmd",
        "colab": {
          "base_uri": "https://localhost:8080/",
          "height": 536
        },
        "outputId": "cb440d66-45f1-41f4-ae69-d809a106aa56"
      },
      "execution_count": null,
      "outputs": [
        {
          "output_type": "stream",
          "name": "stderr",
          "text": [
            " 21%|██        | 21/100 [00:00<00:02, 33.76it/s]"
          ]
        },
        {
          "output_type": "stream",
          "name": "stdout",
          "text": [
            "done reward= 10289 num_of_steps= 21\n"
          ]
        },
        {
          "output_type": "stream",
          "name": "stderr",
          "text": [
            "\n"
          ]
        },
        {
          "output_type": "execute_result",
          "data": {
            "text/plain": [
              "<IPython.core.display.HTML object>"
            ],
            "text/html": [
              "\n",
              "  <video width=\"640\" height=\"480\" controls>\n",
              "    <source src=\"data:video/mp4;base64,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\" type=\"video/mp4\">\n",
              "  Your browser does not support the video tag.\n",
              "  </video>"
            ]
          },
          "metadata": {},
          "execution_count": 34
        }
      ]
    },
    {
      "cell_type": "code",
      "source": [
        "num_episodes = 100\n",
        "steps_per_episode = []\n",
        "rewards_per_episode = []\n",
        "env = KEYRGBImgObsWrapper(RandomKeyMEnv_10(render_mode='rgb_array'))\n",
        "max_steps = 100\n",
        "\n",
        "# Run the episodes\n",
        "for episode in range(num_episodes):\n",
        "    obs = env.reset()[0]\n",
        "    done = False\n",
        "    total_reward = 0\n",
        "    obs = obs.to(device)\n",
        "\n",
        "    for step in range(max_steps):\n",
        "        action = policy_network(obs.unsqueeze(0)).max(1)[1].item()\n",
        "        new_obs, reward, done, _, _ = env.step(action)\n",
        "        new_obs = new_obs.to(device)\n",
        "        total_reward += reward\n",
        "        obs = new_obs\n",
        "        if done:\n",
        "            steps_per_episode.append(step)\n",
        "            rewards_per_episode.append(total_reward)\n",
        "            break\n",
        "\n",
        "# Calculate average number of steps\n",
        "average_steps = np.mean(steps_per_episode)\n",
        "print(\"Average number of steps:\", average_steps)\n",
        "\n",
        "# Calculate average reward\n",
        "average_reward = np.mean(rewards_per_episode)\n",
        "print(\"Average reward:\", average_reward)\n"
      ],
      "metadata": {
        "id": "Am9ULGBSf7ge",
        "colab": {
          "base_uri": "https://localhost:8080/"
        },
        "outputId": "c79ecc8b-3bfa-48a8-fa79-f4a39c83f595"
      },
      "execution_count": null,
      "outputs": [
        {
          "output_type": "stream",
          "name": "stdout",
          "text": [
            "Average number of steps: 22.632653061224488\n",
            "Average reward: 10293.80612244898\n"
          ]
        }
      ]
    },
    {
      "cell_type": "code",
      "source": [
        "model =  DQN(state_size, action_space.n).to(device)\n",
        "model.load_state_dict(torch.load('/content/drive/My Drive/key_door_dqn_model_weights.pth'))\n",
        "\n"
      ],
      "metadata": {
        "id": "bfHA_yXcqm-j"
      },
      "execution_count": null,
      "outputs": []
    },
    {
      "cell_type": "code",
      "source": [],
      "metadata": {
        "id": "mWbB1rkE_BzU"
      },
      "execution_count": null,
      "outputs": []
    }
  ]
}